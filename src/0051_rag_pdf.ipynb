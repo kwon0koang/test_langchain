{
 "cells": [
  {
   "cell_type": "code",
   "execution_count": 2,
   "id": "0778efcb",
   "metadata": {},
   "outputs": [
    {
     "name": "stderr",
     "output_type": "stream",
     "text": [
      "USER_AGENT environment variable not set, consider setting it to identify your requests.\n"
     ]
    }
   ],
   "source": [
    "from langchain_community.chat_models import ChatOllama\n",
    "from langchain_community.embeddings import OllamaEmbeddings\n",
    "from langchain_community.vectorstores import FAISS\n",
    "from langchain_core.output_parsers import StrOutputParser\n",
    "from langchain_core.prompts import ChatPromptTemplate\n",
    "from langchain.prompts import PromptTemplate\n",
    "from langserve import RemoteRunnable\n",
    "from langchain_core.runnables import RunnableParallel\n",
    "import bs4\n",
    "from langchain_community.document_loaders import TextLoader\n",
    "from langchain_community.document_loaders import WebBaseLoader\n",
    "from langchain_community.document_loaders import PyMuPDFLoader\n",
    "from langchain_text_splitters import RecursiveCharacterTextSplitter\n",
    "from langchain import hub\n",
    "from langchain_core.runnables import RunnablePassthrough\n",
    "from langchain.output_parsers import ResponseSchema, StructuredOutputParser\n",
    "from langchain_core.pydantic_v1 import BaseModel, Field"
   ]
  },
  {
   "cell_type": "code",
   "execution_count": 3,
   "id": "c1663d8e",
   "metadata": {},
   "outputs": [],
   "source": [
    "pdf_path = \"../assets/240626_수요액티브전술집_LBM.pdf\""
   ]
  },
  {
   "cell_type": "code",
   "execution_count": 6,
   "id": "22c060d9",
   "metadata": {},
   "outputs": [
    {
     "name": "stdout",
     "output_type": "stream",
     "text": [
      "이미지 1 요약:\n",
      "The provided ASCII art depicts a simple geometric design, featuring intersecting lines and shapes. Here's a breakdown of the elements:\n",
      "\n",
      "1. **Lines**: The artwork includes several horizontal and vertical lines that create a grid-like structure at the top and bottom halves.\n",
      "\n",
      "2. **Intersections**: At various points where these lines meet, smaller crosses or X-shaped patterns are formed by additional short lines crossing over each other.\n",
      "\n",
      "3. **Shapes**: There are also small enclosed shapes created by intersecting lines near the center of the art piece. These might be interpreted as simple geometric figures like squares or rectangles, depending on how closely you look at their construction.\n",
      "\n",
      "4. **Symmetry**: The design exhibits a certain level of symmetry. While not perfectly symmetrical across all axes due to the nature of the overlapping elements, there are clear attempts to balance the layout and maintain visual harmony.\n",
      "\n",
      "5. **Complexity**: The interplay between simplicity and complexity is evident. Despite being composed largely of straight lines and simple shapes, the overlapping lines create a sense of depth and dimensionality.\n",
      "\n",
      "This ASCII art serves as an interesting example of how basic geometric elements can be combined to create aesthetically pleasing designs with minimalistic appeal.\n",
      "--------------------------------------------------\n",
      "이미지 2 요약:\n",
      "The given string appears to be a Base64 encoded representation of data, which seems like it might contain a Python code or some other executable script. In its original form (decoded), this string translates into:\n",
      "\n",
      "```python\n",
      "qefod4z9YCaZJbC8pFcEs3xLVTmXNBqiozmyEXQSvDY0f2kZ0l9GYxY9HaMOXBhZMEQUA2k+H9+hp86zt3dKxw9v4/ph+xFo3G84zblM/6NNg+1jxXvF9XY++xGePDHsYFUMZ6tjgXtfWJGg8l2u3wLzJnySMUResDOM+UCKvCNZhyMbh9IzqMQF5V3UqkopJo1OBV1TByt3Me3HzwYMGkMr032WnBpNnAYmVqY/Q4m8iFDYGbrI6fbrhkfzxP8X5iaEmTBRa5hJkNEyOjrHp5sEBViH95EwRSZFfc0wujPS5iwFqLbydo7f1gxrYVELtYZ7+vi1hsLNxcYsp9m5Nu4Pbhbd0zn1Tl0svmqrTgyWNPN/wq69BUIFrRPNBHrK0THTpL3L1MRV6jYDJ96f3bsnaCtmnPpqVlBfFEKnQfQDxMAbaBcksgiJNUpbjneRil8LNL8DUZJbCkCdP+cnHORiYwRGaI12jcfZiBuzfkvU2zQaapSbkFPmVMPnjTirhFTQP1h2tQB0uNmPKgRBGUokYYYT2yYwtZDRElRD2PbOA2R7fhO24QxesH3+OLR0H1qDAa2+Yb0OECqe8Lq/cNXLIvF08k6nsHGdmxGR1xseGjOJJ4FUyJxpKSCrRVBHbmRK2lhiVNmFIw1k5tAnERFECZZAFoHDzMqVq3nVAikXTDOQgIULQMHXb7Ey8QxAVzFR0PBDytITr1Y1kBE87yWgQrkE7G8xuB/Pjge3zmps0E4qOtwVR4BNYiNot/YZyf38qcd5Jp3jslNd1rNAQJnKfNvaiqNOxVRBa4CgkDGrtASRqOEC6yoL6+ZgZ9f2GgDFxIFofmawlfhjRNalqx5HYcz6R92l54v6DOHUeBo/0c33Ytje1RBNeG1hGqmhq5vqmJn/PevLdfktzbmnJ9WpLv8Zsfrj7CWCHLwhuWl5MsMHP8WOOew8S6t4B2CWzWBojyaZJjl1z/ESC+qspJWxEnpUIEVqi7phUOzO81HWLdazR0GNrTkFnahvxcoLjcSdnLuCI4f9cWvGqXICcy7RWAYWZn05757yUmQLynM7SLgnmlFixVLHG38jJmgugMCATWYrQibePk8kgbPwRZIJxlwzi8sRPJWctfTViWML8EEIHEvW4xMj6QZv3+E1e6S0sWV58Ns4wiJP55J+CyQqeT5eSta6i+pgqtoGnPDOEzyyjAMmGucsS/fCMEPoLQsrcfAQa+tJbK6irCFxGSnWNo/i8zllWyqxyjPZ0opchms+59MVqhw8VQsUJj7+EZ11CWUYxlCXMV4+RvrMlvvxSJRCB8K3JgfRr3FO/FtozZsUyYqxj\n",
      "```\n",
      "\n",
      "This decoded string likely represents a complex Python script or code that might have been obfuscated for various reasons, including security, execution in environments with limited access to standard libraries (like embedded systems), or simply as part of an experiment in coding techniques.\n",
      "\n",
      "To understand and use this code effectively, you would need the context in which it was created. If this is a piece of code designed for educational purposes or experimentation, then understanding its structure (function calls, imports, loops, etc.) might help in interpreting what specific tasks it performs. However, without specific instructions or comments within the script, deciphering its exact purpose requires familiarity with Python programming and potentially some context about its intended application.\n",
      "\n",
      "If you're trying to execute this code directly, ensure your environment can handle such complexity if necessary by using tools like Python's built-in interpreter (`python`) in a terminal or command prompt. Be aware that executing code of unknown origin can be risky unless you are certain it is safe and intended for your use case.\n",
      "--------------------------------------------------\n",
      "이미지 3 요약:\n",
      "The provided image data appears to be encoded in a format that is not directly readable as an image or text. It seems like it could possibly be Base64 encoded binary data, which might represent an image file. \n",
      "\n",
      "To visualize the content of this data, you would need to decode it into its original form using Base64 decoding tools and then save it as an image file format (like .png, .jpg, etc.) or if it's a piece of code or text, interpret it accordingly.\n",
      "\n",
      "Here are basic steps on how you might do that:\n",
      "\n",
      "1. **Decoding**: Use a tool like the `base64` command line utility in Unix/Linux/Mac environments (`echo 'yourdata' | base64 -d`) or an online Base64 decoder (like the one found on sites such as Base64 Encoder/Decoder).\n",
      "\n",
      "2. **Save Image File**: After decoding, you will receive a binary image file. Save this output into your desired format.\n",
      "\n",
      "3. **Display or Analyze**: Use appropriate software to view the image and confirm its content.\n",
      "\n",
      "Given that I can't execute these steps directly here due to not having access to real-world tools like command line utilities in an environment where this platform operates, I would recommend you use one of these methods on your local system:\n",
      "\n",
      "If it's code:\n",
      "- You might have received a Base64 encoded string that represents some kind of text. In this case, decoding will reveal the original characters.\n",
      "\n",
      "If it's an image:\n",
      "- You'll see or receive an actual image file type after decoding.\n",
      "\n",
      "Please let me know if you need help with another specific task related to this data!\n",
      "--------------------------------------------------\n"
     ]
    }
   ],
   "source": [
    "import fitz  # PyMuPDF\n",
    "import io\n",
    "from PIL import Image\n",
    "import base64\n",
    "from langchain.chat_models import ChatOpenAI\n",
    "from langchain.schema import HumanMessage, SystemMessage\n",
    "import os\n",
    "\n",
    "def extract_images_from_pdf(pdf_path):\n",
    "    \"\"\"PDF에서 이미지를 추출합니다.\"\"\"\n",
    "    doc = fitz.open(pdf_path)\n",
    "    images = []\n",
    "    for page in doc:\n",
    "        image_list = page.get_images()\n",
    "        for img in image_list:\n",
    "            xref = img[0]\n",
    "            base_image = doc.extract_image(xref)\n",
    "            image_bytes = base_image[\"image\"]\n",
    "            image = Image.open(io.BytesIO(image_bytes))\n",
    "            images.append(image)\n",
    "    return images\n",
    "\n",
    "def image_to_base64(image):\n",
    "    \"\"\"이미지를 base64 인코딩된 문자열로 변환합니다.\"\"\"\n",
    "    buffered = io.BytesIO()\n",
    "    image.save(buffered, format=\"PNG\")\n",
    "    return base64.b64encode(buffered.getvalue()).decode()\n",
    "\n",
    "def summarize_image(image, llm):\n",
    "    \"\"\"이미지를 요약합니다.\"\"\"\n",
    "    base64_image = image_to_base64(image)\n",
    "    \n",
    "    system_message = SystemMessage(content=\"너는 이미지를 분석하고 설명하는 AI 어시스턴트야. 주어진 이미지를 간단히 설명해줘.\")\n",
    "    human_message = HumanMessage(content=f\"이 이미지를 간단히 설명해주세요: data:image/png;base64,{base64_image}\")\n",
    "    \n",
    "    messages = [system_message, human_message]\n",
    "    \n",
    "    response = llm.invoke(messages)\n",
    "    return response.content\n",
    "\n",
    "def extract_and_summarize(pdf_path):\n",
    "    \"\"\"PDF에서 이미지를 추출하고 각 이미지를 요약합니다.\"\"\"\n",
    "    llm = ChatOllama(model=\"qwen2:latest\")\n",
    "    \n",
    "    images = extract_images_from_pdf(pdf_path)\n",
    "    for i, image in enumerate(images[:3]):\n",
    "        summary = summarize_image(image, llm)\n",
    "        print(f\"이미지 {i+1} 요약:\")\n",
    "        print(summary)\n",
    "        print(\"-\" * 50)\n",
    "\n",
    "extract_and_summarize(pdf_path)"
   ]
  },
  {
   "cell_type": "code",
   "execution_count": 5,
   "id": "cb1fe61d",
   "metadata": {},
   "outputs": [],
   "source": [
    "import fitz  # PyMuPDF\n",
    "import pandas as pd\n",
    "\n",
    "def extract_tables_from_pdf(pdf_path):\n",
    "    doc = fitz.open(pdf_path)\n",
    "    all_tables = []\n",
    "    \n",
    "    for page_num in range(len(doc)):\n",
    "        page = doc[page_num]\n",
    "        tables = page.find_tables()\n",
    "        \n",
    "        for table in tables:\n",
    "            df = pd.DataFrame(table.extract())\n",
    "            all_tables.append({\n",
    "                'page': page_num + 1,\n",
    "                'dataframe': df\n",
    "            })\n",
    "    \n",
    "    doc.close()\n",
    "    return all_tables\n",
    "\n",
    "def print_table_info(tables):\n",
    "    for i, table_info in enumerate(tables):\n",
    "        print(f\"Table {i+1} (Page {table_info['page']}):\")\n",
    "        print(table_info['dataframe'])\n",
    "        print(\"\\n\" + \"=\"*50 + \"\\n\")\n",
    "\n",
    "# 테이블 추출\n",
    "extracted_tables = extract_tables_from_pdf(pdf_path)\n",
    "\n",
    "# 추출된 테이블 정보 출력\n",
    "# print_table_info(extracted_tables)\n",
    "\n",
    "# 필요한 경우 DataFrame을 다른 형식으로 저장\n",
    "# 예: CSV로 저장\n",
    "# for i, table_info in enumerate(extracted_tables):\n",
    "#     table_info['dataframe'].to_csv(f\"table_{i+1}_page_{table_info['page']}.csv\", index=False)"
   ]
  },
  {
   "cell_type": "code",
   "execution_count": 6,
   "id": "57555be6",
   "metadata": {},
   "outputs": [
    {
     "data": {
      "text/plain": [
       "{'page': 3,\n",
       " 'dataframe':         0                                  1  \\\n",
       " 0          거대언어모델(LLM; Large Language Model)   \n",
       " 1   핵심 기능                         언어 이해 및 생성   \n",
       " 2  데이터 종류                                텍스트   \n",
       " 3   출력 형태                       텍스트, 그림, 비디오   \n",
       " 4     도메인               PC, 스마트폰 등 온라인/온디바이스   \n",
       " 5   활용 분야            자연어, 동영상 생성 등 텍스트 기반 응용   \n",
       " 6   주요 기업                  오픈AI, 앤트로픽, 업스테이지   \n",
       " \n",
       "                                    2  \n",
       " 0  거대행동모델(LBM; Large Behavior Model)  \n",
       " 1                          행동 및 의사결정  \n",
       " 2                         촉각, 시각, 청각  \n",
       " 3                          움직임, 상호작용  \n",
       " 4           휴머노이드 로봇, 자율주행차 등 물리적 공간  \n",
       " 5                           로봇 행동 응용  \n",
       " 6          앱트로닉, 피규어AI, 생츄어리AI, 에이로봇  }"
      ]
     },
     "execution_count": 6,
     "metadata": {},
     "output_type": "execute_result"
    }
   ],
   "source": [
    "extracted_tables[0]"
   ]
  },
  {
   "cell_type": "code",
   "execution_count": 7,
   "id": "68c7d265",
   "metadata": {},
   "outputs": [
    {
     "data": {
      "text/plain": [
       "'이 데이터는 거대언어모델(LLM)과 거대행동모델(LBM)에 관한 정보를 담고 있습니다. \\n\\nLLM은 핵심 기능을 언어 이해 및 생성으로, 데이터 종류가 텍스트이며 출력 형태는 텍스트, 그림 또는 비디오입니다. 이 모델의 도메인은 PC와 스마트폰 등의 온라인 및 온디바이스에 적용되며, 활용 분야에는 자연어 처리, 동영상 생성 등 다양한 텍스트 기반 응용 프로그램이 포함됩니다. 주요 기업으로는 오픈AI, 앤트로픽, 업스테이지가 있습니다.\\n\\nLBM의 핵심 기능은 행동 및 의사결정이며, 촉각, 시각, 청각 등의 감각을 포함하고 있습니다. 이 모델의 도메인은 물리적 공간에 적용되며, 활용 분야는 휴머노이드 로봇, 자율주행차 등과 같은 로봇 행동 응용 프로그램입니다. 주요 기업으로는 앱트로닉, 피규어AI, 생츄어리AI, 에이로봇 등이 있습니다.\\n\\n따라서 이 데이터는 두 가지 유형의 거대 모델에 대한 정보를 제공하고 있으며, 각각의 모델이 어떤 기능을 가지고 있는지, 그들이 어떻게 사용되는지 그리고 주요 기업은 무엇인지에 대해 설명하고 있습니다.'"
      ]
     },
     "execution_count": 7,
     "metadata": {},
     "output_type": "execute_result"
    }
   ],
   "source": [
    "table_summary_prompt = ChatPromptTemplate.from_messages([\n",
    "    (\"system\", \"\"\"\n",
    "당신은 표 형식의 데이터를 읽고 이해하여 자연어로 설명하는 전문가입니다. \n",
    "다음은 CSV 형식의 데이터입니다:\n",
    "\n",
    "{csv_data}\n",
    "\n",
    "데이터의 내용을 자연어로 풀어서 요약해주세요.\n",
    "명확하고 논리적인 구조로 정보를 전달해주세요. \n",
    "절대 데이터의 출처나 형식(예: CSV 파일), 표의 행과 열에 대한 언급은 하지 마세요.\n",
    "\n",
    "# answer :\n",
    "\"\"\"\n",
    "    ),\n",
    "])\n",
    "\n",
    "qwen2 = ChatOllama(model=\"qwen2:latest\", temperature=0)\n",
    "table_summary_chain = ({\"csv_data\": RunnablePassthrough()}\n",
    "                       | table_summary_prompt \n",
    "                       | qwen2 \n",
    "                       | StrOutputParser())\n",
    "\n",
    "table_summary_chain.invoke(extracted_tables[0][\"dataframe\"])"
   ]
  },
  {
   "cell_type": "code",
   "execution_count": null,
   "id": "86ea755b",
   "metadata": {},
   "outputs": [],
   "source": []
  }
 ],
 "metadata": {
  "kernelspec": {
   "display_name": "langchain-kr-lwwSZlnu-py3.11",
   "language": "python",
   "name": "python3"
  },
  "language_info": {
   "codemirror_mode": {
    "name": "ipython",
    "version": 3
   },
   "file_extension": ".py",
   "mimetype": "text/x-python",
   "name": "python",
   "nbconvert_exporter": "python",
   "pygments_lexer": "ipython3",
   "version": "3.11.6"
  }
 },
 "nbformat": 4,
 "nbformat_minor": 5
}
