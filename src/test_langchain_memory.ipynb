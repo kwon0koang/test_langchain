{
 "cells": [
  {
   "cell_type": "code",
   "execution_count": 2,
   "metadata": {},
   "outputs": [],
   "source": [
    "from langchain_community.chat_models import ChatOllama\n",
    "from langchain_community.embeddings import OllamaEmbeddings\n",
    "from langchain_community.vectorstores import FAISS\n",
    "from langchain_core.output_parsers import StrOutputParser\n",
    "from langchain_core.prompts import ChatPromptTemplate, MessagesPlaceholder\n",
    "from langserve import RemoteRunnable\n",
    "import bs4\n",
    "from langchain_community.document_loaders import TextLoader\n",
    "from langchain_community.document_loaders import WebBaseLoader\n",
    "from langchain_community.document_loaders import PyMuPDFLoader\n",
    "from langchain_text_splitters import RecursiveCharacterTextSplitter\n",
    "from langchain import hub\n",
    "from langchain_core.runnables import RunnablePassthrough\n",
    "from langchain.memory import ConversationSummaryBufferMemory"
   ]
  },
  {
   "cell_type": "code",
   "execution_count": 2,
   "metadata": {},
   "outputs": [
    {
     "data": {
      "text/plain": [
       "True"
      ]
     },
     "execution_count": 2,
     "metadata": {},
     "output_type": "execute_result"
    }
   ],
   "source": [
    "from dotenv import load_dotenv\n",
    "\n",
    "# 환경변수 로드 (.env)\n",
    "load_dotenv()"
   ]
  },
  {
   "cell_type": "code",
   "execution_count": 1,
   "metadata": {},
   "outputs": [],
   "source": [
    "from langchain_community.chat_models import ChatOllama\n",
    "\n",
    "# llm = ChatOllama(model=\"llama3:latest\")\n",
    "# llm = ChatOllama(model=\"Llama-3-Open-Ko-8B-FP16.gguf:latest\")\n",
    "llm = ChatOllama(model=\"EEVE-Korean-Instruct-10.8B-v1.0:latest\")"
   ]
  },
  {
   "cell_type": "code",
   "execution_count": 16,
   "metadata": {},
   "outputs": [
    {
     "name": "stdout",
     "output_type": "stream",
     "text": [
      "invoke ===============================================\n",
      "load_memory\n",
      "invoke / question : 3+11 계산해줘 / result : 물론이죠, 도와드리겠습니다! 😊\n",
      "\n",
      "3 + 11 = 14입니다.\n",
      "\n",
      "도움이 되셨길 바랍니다! 다른 질문이 있거나 도와드릴 일이 더 있으면 알려주세요. 😄\n",
      "invoke ===============================================\n",
      "load_memory\n",
      "invoke / question : 그 값에 6 더해줘 / result : 물론이죠, 도와드리겠습니다! 😊\n",
      "\n",
      "3 + 11 + 6 = 20입니다.\n",
      "\n",
      "도움이 되셨길 바랍니다! 다른 질문이 있거나 도와드릴 일이 있으면 알려주세요. 😄\n"
     ]
    }
   ],
   "source": [
    "from langchain.memory import ConversationSummaryBufferMemory\n",
    "from langchain_core.prompts import MessagesPlaceholder\n",
    "\n",
    "# 최근 대화 내용의 버퍼를 메모리에 유지하되, 이전 대화내용을 완전히 플러시(flush)하지 않고 요약하여 저장\n",
    "memory_key = \"chat_history\"\n",
    "memory = ConversationSummaryBufferMemory(\n",
    "    llm=llm,\n",
    "    max_token_limit=200, # 요약의 기준이 되는 토큰 길이. 초과할 경우에 요약하여 저장\n",
    "    memory_key=memory_key,\n",
    "    return_messages=True,\n",
    ")\n",
    "\n",
    "prompt = ChatPromptTemplate.from_messages([\n",
    "    (\"system\", \"You are a nice chatbot having a conversation with a human.\"),\n",
    "    MessagesPlaceholder(variable_name=memory_key),\n",
    "    (\"human\", \"{question}\"),\n",
    "])\n",
    "\n",
    "def load_memory(input):\n",
    "    print(f\"load_memory\")\n",
    "    return memory.load_memory_variables({})[memory_key]\n",
    "    \n",
    "chain = (RunnablePassthrough.assign(chat_history=load_memory) \n",
    "         | prompt \n",
    "         | llm\n",
    "         | StrOutputParser()\n",
    "         )\n",
    "\n",
    "def invoke(question):\n",
    "    print(f\"invoke ===============================================\")\n",
    "    result = chain.invoke({\"question\": question})\n",
    "    memory.save_context(\n",
    "        inputs={\n",
    "            \"human\": question\n",
    "        },\n",
    "        outputs={\n",
    "            \"ai\": result\n",
    "        },\n",
    "    )\n",
    "    print(f\"invoke / question : {question} / result : {result}\")\n",
    "\n",
    "invoke(\"3+11 계산해줘\")\n",
    "invoke(\"그 값에 6 더해줘\")"
   ]
  }
 ],
 "metadata": {
  "kernelspec": {
   "display_name": "test-langchain-lw2NDlv9-py3.11",
   "language": "python",
   "name": "python3"
  },
  "language_info": {
   "codemirror_mode": {
    "name": "ipython",
    "version": 3
   },
   "file_extension": ".py",
   "mimetype": "text/x-python",
   "name": "python",
   "nbconvert_exporter": "python",
   "pygments_lexer": "ipython3",
   "version": "3.12.0"
  }
 },
 "nbformat": 4,
 "nbformat_minor": 2
}
