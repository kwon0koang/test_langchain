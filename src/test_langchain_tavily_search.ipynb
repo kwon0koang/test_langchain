{
 "cells": [
  {
   "cell_type": "code",
   "execution_count": 1,
   "metadata": {},
   "outputs": [],
   "source": [
    "from langchain_community.chat_models import ChatOllama\n",
    "from langchain_community.embeddings import OllamaEmbeddings\n",
    "from langchain_community.vectorstores import FAISS\n",
    "from langchain_core.output_parsers import StrOutputParser\n",
    "from langchain_core.prompts import ChatPromptTemplate\n",
    "from langserve import RemoteRunnable\n",
    "import bs4\n",
    "from langchain_community.document_loaders import TextLoader\n",
    "from langchain_community.document_loaders import WebBaseLoader\n",
    "from langchain_community.document_loaders import PyPDFLoader\n",
    "from langchain_text_splitters import RecursiveCharacterTextSplitter\n",
    "from langchain import hub\n",
    "from langchain_core.runnables import RunnablePassthrough"
   ]
  },
  {
   "cell_type": "code",
   "execution_count": 1,
   "metadata": {},
   "outputs": [],
   "source": [
    "from langchain_community.chat_models import ChatOllama\n",
    "\n",
    "# llm = ChatOllama(model=\"llama3:latest\")\n",
    "llm = ChatOllama(model=\"EEVE-Korean-Instruct-10.8B-v1.0:latest\")"
   ]
  },
  {
   "cell_type": "code",
   "execution_count": 8,
   "metadata": {},
   "outputs": [],
   "source": [
    "import os\n",
    "\n",
    "# Tavily Search API KEY (https://app.tavily.com/home)\n",
    "os.environ[\"TAVILY_API_KEY\"] = \"your key\""
   ]
  },
  {
   "cell_type": "code",
   "execution_count": 16,
   "metadata": {},
   "outputs": [
    {
     "data": {
      "text/plain": [
       "[{'url': 'https://www.youtube.com/watch?v=MJ6EWRtHURg',\n",
       "  'content': 'We are recording our life in Hong Kong in this video. Enjoy :) このビデオでは私たちの香港での生活を記録しています。Instagram: https://www ...'},\n",
       " {'url': 'https://alpha.velog.io/@kwon0koang/about',\n",
       "  'content': 'kwon0koang님의 자기소개가 비었습니다. 서비스 핵심 가치를 이해하고, 지속적인 개선을 이끄는 엔지니어(를 지향함)'},\n",
       " {'url': 'https://www.youtube.com/watch?v=zLBodJHUwVE',\n",
       "  'content': 'Hey guys!Sharing with you a late HK Vlog!👋 Klook - Travel Activities, Hotels, Flights, and so much more👋Use my Klook discount code JAX5OFF to get more disc...'},\n",
       " {'url': 'https://velog.io/@kwon0koang/posts',\n",
       "  'content': 'kwon0koang (0koang) / 작성글 - velog. 서비스 핵심 가치를 이해하고, 지속적인 개선을 이끄는 엔지니어 (를 지향함) 5 팔로워 2 팔로잉. 글 시리즈 소개. kwon0koang님이 작성한 포스트 시리즈들을 확인해보세요.'},\n",
       " {'url': 'https://alpha.velog.io/@kwon0koang/series',\n",
       "  'content': 'kwon0koang님이 작성한 포스트 시리즈들을 확인해보세요. 서비스 핵심 가치를 이해하고, 지속적인 개선을 이끄는 엔지니어(를 지향함)'}]"
      ]
     },
     "execution_count": 16,
     "metadata": {},
     "output_type": "execute_result"
    }
   ],
   "source": [
    "from langchain_community.tools.tavily_search import TavilySearchResults\n",
    "\n",
    "# Tavily Search API : 효율적이고 빠른 검색 결과를 목표로 하는 LLM 및 RAG에 최적화된 검색 엔진\n",
    "search = TavilySearchResults(k=3)\n",
    "search.invoke(\"0koang velog 주소\")"
   ]
  }
 ],
 "metadata": {
  "kernelspec": {
   "display_name": "test-langchain-lw2NDlv9-py3.11",
   "language": "python",
   "name": "python3"
  },
  "language_info": {
   "codemirror_mode": {
    "name": "ipython",
    "version": 3
   },
   "file_extension": ".py",
   "mimetype": "text/x-python",
   "name": "python",
   "nbconvert_exporter": "python",
   "pygments_lexer": "ipython3",
   "version": "3.11.6"
  }
 },
 "nbformat": 4,
 "nbformat_minor": 2
}
