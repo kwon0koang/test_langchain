{
 "cells": [
  {
   "cell_type": "code",
   "execution_count": 23,
   "metadata": {},
   "outputs": [],
   "source": [
    "from langchain_community.chat_models import ChatOllama\n",
    "from langchain_community.embeddings import OllamaEmbeddings\n",
    "from langchain_community.vectorstores import FAISS\n",
    "from langchain_core.output_parsers import StrOutputParser\n",
    "from langserve import RemoteRunnable\n",
    "import bs4\n",
    "from langchain_community.document_loaders import TextLoader\n",
    "from langchain_community.document_loaders import WebBaseLoader\n",
    "from langchain_community.document_loaders import PyPDFLoader\n",
    "from langchain_text_splitters import RecursiveCharacterTextSplitter\n",
    "from langchain import hub\n",
    "from langchain_core.runnables import RunnablePassthrough\n",
    "from typing import Tuple, List\n",
    "from langchain.prompts import ChatPromptTemplate, MessagesPlaceholder\n",
    "from langchain.tools.render import render_text_description_and_args\n",
    "from langchain_core.messages import AIMessage, HumanMessage\n",
    "from langchain.agents.format_scratchpad import format_log_to_messages\n",
    "from langchain.agents.output_parsers import (\n",
    "    ReActJsonSingleInputOutputParser,\n",
    ")\n",
    "from langchain.pydantic_v1 import BaseModel, Field\n",
    "from langchain.agents import AgentExecutor\n",
    "from langchain_community.chat_models import ChatOllama\n",
    "from langchain_openai import ChatOpenAI"
   ]
  },
  {
   "cell_type": "code",
   "execution_count": 35,
   "metadata": {},
   "outputs": [],
   "source": [
    "import os\n",
    "\n",
    "os.environ[\"OPENAI_API_KEY\"] = \"your key\" # OpenAI API KEY (https://platform.openai.com/api-keys)\n",
    "os.environ[\"TAVILY_API_KEY\"] = \"your key\" # Tavily Search API KEY (https://app.tavily.com/home)"
   ]
  },
  {
   "cell_type": "code",
   "execution_count": 48,
   "metadata": {},
   "outputs": [],
   "source": [
    "from langchain_openai import ChatOpenAI\n",
    "\n",
    "# llm = ChatOpenAI(model=\"EEVE-Korean-Instruct-10.8B-v1.0:latest\", temperature=0)\n",
    "llm = ChatOpenAI(model=\"gpt-3.5-turbo-0125\", temperature=0)"
   ]
  },
  {
   "cell_type": "code",
   "execution_count": 49,
   "metadata": {},
   "outputs": [
    {
     "data": {
      "text/plain": [
       "[{'url': 'https://alpha.velog.io/@kwon0koang/series',\n",
       "  'content': 'kwon0koang님이 작성한 포스트 시리즈들을 확인해보세요. 서비스 핵심 가치를 이해하고, 지속적인 개선을 이끄는 엔지니어(를 지향함)'},\n",
       " {'url': 'https://www.youtube.com/watch?v=l4sKIoSGuEc',\n",
       "  'content': \"I can't believe that I saw #Disneyland #hongkong with my own eyes. #disneylandhotel #Swisskaur #vlog #travel #trip #tripvlog\"},\n",
       " {'url': 'https://www.youtube.com/watch?v=IX68zHymkyo',\n",
       "  'content': \"#hongkong #hongkongvlog Hello EveryoneI'm back in Asia and this time I will visit Hong Kong for the first time.Have you been? 💌This is my day 1I hope you wi...\"},\n",
       " {'url': 'https://blog.youtube/creator-and-artist-stories/sam-and-victor/',\n",
       "  'content': 'The gentle whirrs of an espresso machine. Curtains softly blowing by an open window. The sound of rain hitting nearby clusters of trees. Aesthetic vlogging, a trend that has grown to multiple million videos since 2020, is all about romanticizing the ordinary, and Hong Kong-based couple Sam and Victor have been dabbling in it over the past five years since starting their YouTube channel as a ...'},\n",
       " {'url': 'https://www.youtube.com/watch?v=zLBodJHUwVE',\n",
       "  'content': 'Hey guys!Sharing with you a late HK Vlog!👋 Klook - Travel Activities, Hotels, Flights, and so much more👋Use my Klook discount code JAX5OFF to get more disc...'}]"
      ]
     },
     "execution_count": 49,
     "metadata": {},
     "output_type": "execute_result"
    }
   ],
   "source": [
    "from langchain_community.tools.tavily_search import TavilySearchResults\n",
    "\n",
    "# Tavily Search API : 효율적이고 빠른 검색 결과를 목표로 하는 LLM 및 RAG에 최적화된 검색 엔진\n",
    "search = TavilySearchResults(k=3)\n",
    "search.invoke(\"0koang velog 주소\")"
   ]
  },
  {
   "cell_type": "code",
   "execution_count": 50,
   "metadata": {},
   "outputs": [],
   "source": [
    "tools = [search]\n",
    "\n",
    "llm_with_tools = llm.bind_tools(tools)"
   ]
  }
 ],
 "metadata": {
  "kernelspec": {
   "display_name": "test-langchain-lw2NDlv9-py3.11",
   "language": "python",
   "name": "python3"
  },
  "language_info": {
   "codemirror_mode": {
    "name": "ipython",
    "version": 3
   },
   "file_extension": ".py",
   "mimetype": "text/x-python",
   "name": "python",
   "nbconvert_exporter": "python",
   "pygments_lexer": "ipython3",
   "version": "3.11.6"
  }
 },
 "nbformat": 4,
 "nbformat_minor": 2
}
