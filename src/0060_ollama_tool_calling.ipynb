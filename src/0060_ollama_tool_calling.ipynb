{
 "cells": [
  {
   "cell_type": "code",
   "execution_count": 1,
   "metadata": {},
   "outputs": [
    {
     "data": {
      "text/plain": [
       "[]"
      ]
     },
     "execution_count": 1,
     "metadata": {},
     "output_type": "execute_result"
    }
   ],
   "source": [
    "from typing import List\n",
    "\n",
    "from langchain_ollama import ChatOllama\n",
    "from typing_extensions import TypedDict\n",
    "\n",
    "\n",
    "def validate_user(user_id: int, addresses: List) -> bool:\n",
    "    \"\"\"Validate user using historical addresses.\n",
    "\n",
    "    Args:\n",
    "        user_id: (int) the user ID.\n",
    "        addresses: Previous addresses.\n",
    "    \"\"\"\n",
    "    return True\n",
    "\n",
    "\n",
    "llm = ChatOllama(\n",
    "    model=\"llama3-groq-tool-use\",\n",
    "    temperature=0,\n",
    ").bind_tools([validate_user])\n",
    "\n",
    "result = llm.invoke(\n",
    "    \"Could you validate user 123? They previously lived at \"\n",
    "    \"123 Fake St in Boston MA and 234 Pretend Boulevard in \"\n",
    "    \"Houston TX.\"\n",
    ")\n",
    "result.tool_calls\n",
    "\n"
   ]
  },
  {
   "cell_type": "code",
   "execution_count": 2,
   "metadata": {},
   "outputs": [
    {
     "data": {
      "text/plain": [
       "AIMessage(content=\"To validate the user, I'll need to check their previous addresses against a database of known users. Could you provide me with any additional information about this user that might help narrow down the search?\", response_metadata={'model': 'llama3-groq-tool-use', 'created_at': '2024-08-06T13:18:56.877044Z', 'message': {'role': 'assistant', 'content': \"To validate the user, I'll need to check their previous addresses against a database of known users. Could you provide me with any additional information about this user that might help narrow down the search?\"}, 'done_reason': 'stop', 'done': True, 'total_duration': 14971057667, 'load_duration': 9116457750, 'prompt_eval_count': 38, 'prompt_eval_duration': 605725000, 'eval_count': 40, 'eval_duration': 5236692000}, id='run-d363ccd0-071d-469c-96df-28a04fc77ba2-0', usage_metadata={'input_tokens': 38, 'output_tokens': 40, 'total_tokens': 78})"
      ]
     },
     "execution_count": 2,
     "metadata": {},
     "output_type": "execute_result"
    }
   ],
   "source": [
    "result"
   ]
  },
  {
   "cell_type": "code",
   "execution_count": 4,
   "metadata": {},
   "outputs": [
    {
     "data": {
      "text/plain": [
       "[]"
      ]
     },
     "execution_count": 4,
     "metadata": {},
     "output_type": "execute_result"
    }
   ],
   "source": [
    "from langchain_ollama import ChatOllama\n",
    "from langchain_core.pydantic_v1 import BaseModel, Field\n",
    "\n",
    "class Multiply(BaseModel):\n",
    "    a: int = Field(..., description=\"First integer\")\n",
    "    b: int = Field(..., description=\"Second integer\")\n",
    "\n",
    "ans = ChatOllama(\n",
    "    model=\"llama3.1:latest\",\n",
    "    temperature=0,\n",
    ").bind_tools([Multiply]).invoke(\"What is 45*67\")\n"
   ]
  },
  {
   "cell_type": "code",
   "execution_count": 5,
   "metadata": {},
   "outputs": [
    {
     "data": {
      "text/plain": [
       "AIMessage(content='45 * 67 = 3015', response_metadata={'model': 'llama3.1:latest', 'created_at': '2024-07-31T13:17:05.793106Z', 'message': {'role': 'assistant', 'content': '45 * 67 = 3015'}, 'done_reason': 'stop', 'done': True, 'total_duration': 3062571917, 'load_duration': 2047375625, 'prompt_eval_count': 16, 'prompt_eval_duration': 342552000, 'eval_count': 9, 'eval_duration': 664651000}, id='run-dd7e9034-147b-4a6a-a201-3ede694544e8-0', usage_metadata={'input_tokens': 16, 'output_tokens': 9, 'total_tokens': 25})"
      ]
     },
     "execution_count": 5,
     "metadata": {},
     "output_type": "execute_result"
    }
   ],
   "source": [
    "ans"
   ]
  },
  {
   "cell_type": "code",
   "execution_count": 6,
   "metadata": {},
   "outputs": [
    {
     "data": {
      "text/plain": [
       "[]"
      ]
     },
     "execution_count": 6,
     "metadata": {},
     "output_type": "execute_result"
    }
   ],
   "source": [
    "ans.tool_calls"
   ]
  },
  {
   "cell_type": "code",
   "execution_count": null,
   "metadata": {},
   "outputs": [],
   "source": []
  }
 ],
 "metadata": {
  "kernelspec": {
   "display_name": "test-langchain-lw2NDlv9-py3.11",
   "language": "python",
   "name": "python3"
  },
  "language_info": {
   "codemirror_mode": {
    "name": "ipython",
    "version": 3
   },
   "file_extension": ".py",
   "mimetype": "text/x-python",
   "name": "python",
   "nbconvert_exporter": "python",
   "pygments_lexer": "ipython3",
   "version": "3.11.9"
  }
 },
 "nbformat": 4,
 "nbformat_minor": 2
}
