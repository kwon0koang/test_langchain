{
    "cells": [
        {
            "cell_type": "code",
            "execution_count": null,
            "metadata": {},
            "outputs": [],
            "source": [
                "from langchain_openai import ChatOpenAI\n",
                "from langchain_community.chat_models import ChatOllama\n",
                "from langchain_community.embeddings import OllamaEmbeddings\n",
                "from langchain_community.vectorstores import FAISS\n",
                "from langchain_core.output_parsers import StrOutputParser\n",
                "from langchain_core.prompts import ChatPromptTemplate, MessagesPlaceholder, SystemMessagePromptTemplate, HumanMessagePromptTemplate\n",
                "from langserve import RemoteRunnable\n",
                "import bs4\n",
                "from langchain_community.document_loaders import TextLoader\n",
                "from langchain_community.document_loaders import WebBaseLoader\n",
                "from langchain_community.document_loaders import PyMuPDFLoader\n",
                "from langchain_text_splitters import RecursiveCharacterTextSplitter\n",
                "from langchain import hub\n",
                "from langchain_core.runnables import RunnablePassthrough, RunnableParallel\n",
                "from langchain_community.embeddings import HuggingFaceEmbeddings\n",
                "from langchain_core.messages import HumanMessage, AIMessage, SystemMessage\n",
                "from langchain_experimental.llms.ollama_functions import OllamaFunctions\n",
                "from langchain_core.pydantic_v1 import BaseModel, Field\n",
                "from langchain_core.vectorstores import VectorStoreRetriever\n",
                "from langchain_core.documents.base import Document\n",
                "from langchain.agents import AgentExecutor\n",
                "from langchain.tools.retriever import create_retriever_tool\n",
                "import os"
            ]
        },
        {
            "cell_type": "code",
            "execution_count": 2,
            "metadata": {},
            "outputs": [
                {
                    "data": {
                        "text/plain": [
                            "True"
                        ]
                    },
                    "execution_count": 2,
                    "metadata": {},
                    "output_type": "execute_result"
                }
            ],
            "source": [
                "from dotenv import load_dotenv\n",
                "\n",
                "# 환경변수 로드 (.env)\n",
                "load_dotenv()"
            ]
        },
        {
            "cell_type": "code",
            "execution_count": 43,
            "metadata": {},
            "outputs": [],
            "source": [
                "from langchain_openai import ChatOpenAI\n",
                "\n",
                "llm = ChatOpenAI(\n",
                "    base_url = \"http://sionic.chat:8001/v1\",\n",
                "    api_key = \"934c4bbc-c384-4bea-af82-1450d7f8128d\",\n",
                "    model=\"xionic-ko-llama-3-70b\",\n",
                "    temperature=0\n",
                ")\n",
                "# llm = ChatOllama(\n",
                "#     model=\"qwen2:latest\",\n",
                "#     temperature=0,\n",
                "#     base_url=\"http://localhost:11434\",\n",
                "# )"
            ]
        },
        {
            "cell_type": "code",
            "execution_count": 38,
            "metadata": {},
            "outputs": [
                {
                    "data": {
                        "text/plain": [
                            "[Tool(name='saved_news_search', description='\\n아래와 같은 정보를 검색할 때에는 이 도구를 사용해야 한다\\n- 엔비디아의 스타트업 인수 관련 내용\\n- 퍼플렉시티 관련 내용 (회사가치, 투자 등)\\n- 라마3 관련 내용\\n', args_schema=<class 'langchain_core.tools.RetrieverInput'>, func=functools.partial(<function _get_relevant_documents at 0x10af4fec0>, retriever=VectorStoreRetriever(tags=['FAISS', 'HuggingFaceEmbeddings'], vectorstore=<langchain_community.vectorstores.faiss.FAISS object at 0x307f29f90>, search_kwargs={'k': 3}), document_prompt=PromptTemplate(input_variables=['page_content'], template='{page_content}'), document_separator='\\n\\n'), coroutine=functools.partial(<function _aget_relevant_documents at 0x10b1200e0>, retriever=VectorStoreRetriever(tags=['FAISS', 'HuggingFaceEmbeddings'], vectorstore=<langchain_community.vectorstores.faiss.FAISS object at 0x307f29f90>, search_kwargs={'k': 3}), document_prompt=PromptTemplate(input_variables=['page_content'], template='{page_content}'), document_separator='\\n\\n')),\n",
                            " Tool(name='pdf_search', description='\\n다음과 같은 정보를 검색할 때에는 이 도구를 사용해야 한다\\n- 생성형 AI 신기술 도입에 따른 선거 규제 연구 관련 내용\\n- 생성 AI 규제 연구 관련 내용\\n- 생성 AI 연구 관련 내용\\n', args_schema=<class 'langchain_core.tools.RetrieverInput'>, func=functools.partial(<function _get_relevant_documents at 0x10af4fec0>, retriever=VectorStoreRetriever(tags=['FAISS', 'HuggingFaceEmbeddings'], vectorstore=<langchain_community.vectorstores.faiss.FAISS object at 0x307f41150>, search_kwargs={'k': 3}), document_prompt=PromptTemplate(input_variables=['page_content'], template='{page_content}'), document_separator='\\n\\n'), coroutine=functools.partial(<function _aget_relevant_documents at 0x10b1200e0>, retriever=VectorStoreRetriever(tags=['FAISS', 'HuggingFaceEmbeddings'], vectorstore=<langchain_community.vectorstores.faiss.FAISS object at 0x307f41150>, search_kwargs={'k': 3}), document_prompt=PromptTemplate(input_variables=['page_content'], template='{page_content}'), document_separator='\\n\\n'))]"
                        ]
                    },
                    "execution_count": 38,
                    "metadata": {},
                    "output_type": "execute_result"
                }
            ],
            "source": [
                "from langchain.tools.retriever import create_retriever_tool\n",
                "\n",
                "embeddings = HuggingFaceEmbeddings(\n",
                "    model_name=\"BAAI/bge-m3\",\n",
                "    model_kwargs = {'device': 'cpu'}, # 모델이 CPU에서 실행되도록 설정. GPU를 사용할 수 있는 환경이라면 'cuda'로 설정할 수도 있음\n",
                "    encode_kwargs = {'normalize_embeddings': True}, # 임베딩 정규화. 모든 벡터가 같은 범위의 값을 갖도록 함. 유사도 계산 시 일관성을 높여줌\n",
                ")\n",
                "\n",
                "# 로컬 DB 불러오기\n",
                "MY_NEWS_INDEX = \"MY_NEWS_INDEX\"\n",
                "vectorstore1 = FAISS.load_local(MY_NEWS_INDEX, \n",
                "                               embeddings, \n",
                "                               allow_dangerous_deserialization=True)\n",
                "retriever1 = vectorstore1.as_retriever(search_type=\"similarity\", search_kwargs={\"k\": 3}) # 유사도 높은 3문장 추출\n",
                "MY_PDF_INDEX = \"MY_PDF_INDEX\"\n",
                "vectorstore2 = FAISS.load_local(MY_PDF_INDEX, \n",
                "                               embeddings, \n",
                "                               allow_dangerous_deserialization=True)\n",
                "retriever2 = vectorstore2.as_retriever(search_type=\"similarity\", search_kwargs={\"k\": 3}) # 유사도 높은 3문장 추출\n",
                "\n",
                "retriever_tool1 = create_retriever_tool(\n",
                "    retriever1,\n",
                "    name=\"saved_news_search\",\n",
                "    description=\"\"\"\n",
                "아래와 같은 정보를 검색할 때에는 이 도구를 사용해야 한다\n",
                "- 엔비디아의 스타트업 인수 관련 내용\n",
                "- 퍼플렉시티 관련 내용 (회사가치, 투자 등)\n",
                "- 라마3 관련 내용\n",
                "\"\"\",\n",
                ")\n",
                "\n",
                "retriever_tool2 = create_retriever_tool(\n",
                "    retriever2,\n",
                "    name=\"pdf_search\",\n",
                "    description=\"\"\"\n",
                "다음과 같은 정보를 검색할 때에는 이 도구를 사용해야 한다\n",
                "- 생성형 AI 신기술 도입에 따른 선거 규제 연구 관련 내용\n",
                "- 생성 AI 규제 연구 관련 내용\n",
                "- 생성 AI 연구 관련 내용\n",
                "\"\"\"\n",
                ")\n",
                "\n",
                "tools = [retriever_tool1, retriever_tool2]\n",
                "tools"
            ]
        },
        {
            "cell_type": "code",
            "execution_count": 26,
            "metadata": {},
            "outputs": [
                {
                    "data": {
                        "text/plain": [
                            "ChatPromptTemplate(input_variables=['agent_scratchpad', 'input', 'tool_names', 'tools'], input_types={'chat_history': typing.List[typing.Union[langchain_core.messages.ai.AIMessage, langchain_core.messages.human.HumanMessage, langchain_core.messages.chat.ChatMessage, langchain_core.messages.system.SystemMessage, langchain_core.messages.function.FunctionMessage, langchain_core.messages.tool.ToolMessage]]}, partial_variables={'chat_history': []}, metadata={'lc_hub_owner': 'teddynote', 'lc_hub_repo': 'react-chat-json-korean', 'lc_hub_commit_hash': '246b7852986ad9370b8d41310461e4e52a947ea1b67bf034722f4447a4caa064'}, messages=[SystemMessagePromptTemplate(prompt=PromptTemplate(input_variables=[], template='Assistant is a large language model trained by OpenAI.\\nAssistant is designed to be able to assist with a wide range of tasks, from answering simple questions to providing in-depth explanations and discussions on a wide range of topics. As a language model, Assistant is able to generate human-like text based on the input it receives, allowing it to engage in natural-sounding conversations and provide responses that are coherent and relevant to the topic at hand.\\nAssistant is constantly learning and improving, and its capabilities are constantly evolving. It is able to process and understand large amounts of text, and can use this knowledge to provide accurate and informative responses to a wide range of questions. Additionally, Assistant is able to generate its own text based on the input it receives, allowing it to engage in discussions and provide explanations and descriptions on a wide range of topics.\\nOverall, Assistant is a powerful system that can help with a wide range of tasks and provide valuable insights and information on a wide range of topics. Whether you need help with a specific question or just want to have a conversation about a particular topic, Assistant is here to assist.')), MessagesPlaceholder(variable_name='chat_history', optional=True), HumanMessagePromptTemplate(prompt=PromptTemplate(input_variables=['input', 'tool_names', 'tools'], template='TOOLS\\n------\\nAssistant can ask the user to use tools to look up information that may be helpful in answering the users original question. The tools the human can use are:\\n\\n{tools}\\n\\nRESPONSE FORMAT INSTRUCTIONS\\n----------------------------\\n\\nWhen responding to me, please output a response in one of two formats:\\n\\n**Option 1:**\\nUse this if you want the human to use a tool.\\nMarkdown code snippet formatted in the following schema:\\n\\n```json\\n{{\\n    \"action\": string, \\\\ The action to take. Must be one of {tool_names}\\n    \"action_input\": string \\\\ The input to the action\\n}}\\n```\\n\\n**Option #2:**\\nUse this if you want to respond directly to the human. Markdown code snippet formatted in the following schema:\\n\\n```json\\n{{\\n    \"action\": \"Final Answer\",\\n    \"action_input\": string \\\\ You should put what you want to return to use here. You must write the response in Korean.\\n}}\\n```\\n\\nUSER\\'S INPUT\\n--------------------\\nHere is the user\\'s input (remember to respond with a markdown code snippet of a json blob with a single action, and NOTHING else):\\n\\nUse search tools to answer the following question in Korean:\\n{input}')), SystemMessagePromptTemplate(prompt=PromptTemplate(input_variables=['agent_scratchpad'], template='Write in Korean:\\n{agent_scratchpad}'))])"
                        ]
                    },
                    "execution_count": 26,
                    "metadata": {},
                    "output_type": "execute_result"
                }
            ],
            "source": [
                "json_prompt = hub.pull(\"teddynote/react-chat-json-korean\")\n",
                "json_prompt"
            ]
        },
        {
            "cell_type": "code",
            "execution_count": 44,
            "metadata": {},
            "outputs": [],
            "source": [
                "from langchain.agents import create_json_chat_agent\n",
                "from langchain.agents import AgentExecutor\n",
                "\n",
                "agent = create_json_chat_agent(llm, tools, json_prompt)\n",
                "agent_executor = AgentExecutor(\n",
                "    agent=agent,\n",
                "    tools=tools,\n",
                "    verbose=True,\n",
                "    handle_parsing_errors=True,\n",
                "    return_intermediate_steps=True,\n",
                ")"
            ]
        },
        {
            "cell_type": "code",
            "execution_count": 46,
            "metadata": {},
            "outputs": [
                {
                    "name": "stdout",
                    "output_type": "stream",
                    "text": [
                        "\n",
                        "\n",
                        "\u001b[1m> Entering new AgentExecutor chain...\u001b[0m\n",
                        "\u001b[32;1m\u001b[1;3m```\n",
                        "{\n",
                        "    \"action\": \"saved_news_search\",\n",
                        "    \"action_input\": \"퍼플렉시티의 투자금액\"\n",
                        "}\n",
                        "```\u001b[0m\u001b[36;1m\u001b[1;3m인공지능(AI)을 활용해 구글과 경쟁할 검색 엔진을 구축하는 스타트업 퍼플렉시티가 최근 약 6300만달러(약 860억원)의 투자를 유치하며 회사 가치를 10억달러(약 1조3760억원) 이상으로 평가 받았다. 3개월 만에 이 회사의 기업 가치는 두배로 상승했다.\n",
                        "테크크런치에 따르면 23일(현지시각) 발표된 이번 투자에는 다니엘 그로스, 스탠리 드뤼컨밀러, Y 콤비네이터의 최고 경영자 게리 탄, 그리고 피그마 CEO 딜런 필드 등 거물들이 새로 참여했다. 아마존 창업자인 제프 베이조스와 엔비디아 등 기존 투자자들도 이번 라운드에 이름을 올렸다.\n",
                        "이번 자금 조달이 마감됐지만, 퍼플렉시티는 현재 25억달러(약 34조원)에서 30억달러(약 41조원)의 기업가치로 최소 2억5000만달러(약 3400억원)의 훨씬 더 큰 규모의 라운드를 진행 중인 것으로 알려졌다.\n",
                        "\n",
                        "새로운 투자 라운드가 성공적으로 마감된다면 지난 1월 5억4000달러(약 7400억원) 가치로 7400만달러(약 1000억원)를 모금한 이후 기업가치가 5~6배까지 상승하는 것이다. \n",
                        "퍼플렉시티는 창업한 지 2년도 채 안 됐지만, 검색 결과를 요약하는 AI 챗봇으로 큰 인기를 얻고 있다. 구글의 제미나이, 미스트랄 7B, 앤트로픽의 클로드, 오픈AI의 GPT-4, 메타의 라마 3 등 여러 주요 LLM을 활용하여 최상의 검색 결과를 제공한다.\n",
                        "답변에 대한 인용을 나열하고 사용자가 최상의 응답을 얻도록 돕는 서비스를 제공, 구글 검색의 대안으로 꼽힌다. 정확성에 중점을 두고 있으며, 점점 더 혼잡해지는 AI 시장에서 신속하게 자신의 챗봇을 차별화하고 있다. \n",
                        "또 무료 및 유료 버전의 서비스를 통해 연간 2000만달러(약 275억원)의 수익을 올리고 있다. 다른 많은 AI 기업들과 마찬가지로 B2B로 수익을 증대하려고 노력 중이다.\n",
                        "\n",
                        "또 무료 및 유료 버전의 서비스를 통해 연간 2000만달러(약 275억원)의 수익을 올리고 있다. 다른 많은 AI 기업들과 마찬가지로 B2B로 수익을 증대하려고 노력 중이다.\n",
                        "아라빈드 스리니바스 CEO는 \"이 자금을 통해 글로벌 확장을 촉진할 계획\"이라고 말했다. 퍼플렉시티는 일본의 소프트뱅크 및 독일의 도이체 텔레콤과 유통 파트너십을 맺고 전 세계 3억명 이상의 사용자들에게 서비스를 마케팅하기로 했다.\n",
                        "한편 비즈니스 인사이드는 마이크로소프트(MS)가 직원들의 퍼플렉시티 접속을 차단했다고 전했다. MS는 구글 제미나이 접속도 차단하고 있는 것으로 알려졌다. \n",
                        "이는 생성 AI 서비스를 제공하는 회사가 사용자가 입력하는 모든 것에 대해 라이선스나 소유권을 가질 수 있다는 정책 때문이다.\n",
                        "박찬 기자 cpark@aitimes.com\u001b[0m\u001b[32;1m\u001b[1;3m```\n",
                        "{\n",
                        "    \"action\": \"Final Answer\",\n",
                        "    \"action_input\": \"퍼플렉시티가 약 6300만달러(약 860억원)의 투자를 유치하며 회사 가치를 10억달러(약 1조3760억원) 이상으로 평가 받았다.\"\n",
                        "}\n",
                        "```\u001b[0m\n",
                        "\n",
                        "\u001b[1m> Finished chain.\u001b[0m\n"
                    ]
                },
                {
                    "data": {
                        "text/plain": [
                            "'퍼플렉시티가 약 6300만달러(약 860억원)의 투자를 유치하며 회사 가치를 10억달러(약 1조3760억원) 이상으로 평가 받았다.'"
                        ]
                    },
                    "execution_count": 46,
                    "metadata": {},
                    "output_type": "execute_result"
                }
            ],
            "source": [
                "response = agent_executor.invoke(\n",
                "    {\"input\": \"퍼플렉시티가 투자받은 금액?\"}\n",
                "    # {\"input\": \"생성형 AI 도입에 따른 규제 연구 책임자는?\"}\n",
                ") \n",
                "response[\"output\"]"
            ]
        }
    ],
    "metadata": {
        "kernelspec": {
            "display_name": "test-langchain-lw2NDlv9-py3.11",
            "language": "python",
            "name": "python3"
        },
        "language_info": {
            "codemirror_mode": {
                "name": "ipython",
                "version": 3
            },
            "file_extension": ".py",
            "mimetype": "text/x-python",
            "name": "python",
            "nbconvert_exporter": "python",
            "pygments_lexer": "ipython3",
            "version": "3.11.6"
        }
    },
    "nbformat": 4,
    "nbformat_minor": 2
}
