{
 "cells": [
  {
   "cell_type": "code",
   "execution_count": 1,
   "metadata": {},
   "outputs": [
    {
     "name": "stdout",
     "output_type": "stream",
     "text": [
      "baseMessage : content='Yeouido () is a historic neighborhood located in the heart of Seoul, South Korea. It\\'s known for its vibrant atmosphere, cultural attractions, and beautiful parks.\\n\\nYeouido is situated on the southern bank of the Han River (Hangang) and is often referred to as the \"heart\" of Seoul due to its central location. The area has undergone significant development in recent years and is now a popular destination for both locals and tourists.\\n\\nSome popular attractions in Yeouido include:\\n\\n1. National Museum of Korea: A must-visit museum showcasing Korean art, history, and culture.\\n2. Yeouido Park: A scenic park with beautiful gardens, walking paths, and a lake.\\n3. Seoul Tower (N Seoul Tower): A iconic communications tower offering stunning views of the city.\\n4. Han River Park: A popular spot for picnics, strolls, and boat rides along the river.\\n5. Yeouido Fountain Show: A spectacular display of water, music, and lights that takes place every evening.\\n\\nYeouido is also home to many restaurants, cafes, and bars, offering a range of cuisines from traditional Korean dishes to international flavors.\\n\\nOverall, Yeouido is a unique blend of history, culture, and entertainment, making it a must-visit destination in Seoul!' response_metadata={'model': 'llama3:latest', 'created_at': '2024-04-23T13:33:11.462467Z', 'message': {'role': 'assistant', 'content': ''}, 'done': True, 'total_duration': 22906600167, 'load_duration': 2290542, 'prompt_eval_duration': 233092000, 'eval_count': 265, 'eval_duration': 22667953000} id='run-2d7b50ab-b5cb-4619-85c6-421207c8faf1-0'\n"
     ]
    }
   ],
   "source": [
    "from langchain_community.chat_models import ChatOllama\n",
    "\n",
    "llm = ChatOllama(model=\"llama3:latest\")\n",
    "message = llm.invoke(\"What is Yeouido?\")\n",
    "print(f'message: {message}')"
   ]
  },
  {
   "cell_type": "code",
   "execution_count": 6,
   "metadata": {},
   "outputs": [
    {
     "name": "stdout",
     "output_type": "stream",
     "text": [
      "message : content='Nice to meet you!\\n\\nYeouido (Hangul: ; Hanja:) is a district located in the heart of Seoul, South Korea. It\\'s a popular tourist destination and a hub for international business and finance. Yeouido is situated on Yeouido Island, which is connected to the mainland by several bridges.\\n\\nThe area is home to many notable landmarks, including the National Assembly Building (the Korean parliament), the Yeouido Park, and the Han River. It\\'s also known for its vibrant nightlife, upscale shopping malls, and a variety of restaurants serving international cuisine.\\n\\nIn recent years, Yeouido has become a hub for foreign companies, embassies, and international organizations, earning it the nickname \"Korea\\'s Wall Street.\"' response_metadata={'model': 'llama3:latest', 'created_at': '2024-04-23T14:02:46.049957Z', 'message': {'role': 'assistant', 'content': ''}, 'done': True, 'total_duration': 15910194541, 'load_duration': 2683628375, 'prompt_eval_count': 45, 'prompt_eval_duration': 570892000, 'eval_count': 152, 'eval_duration': 12649072000} id='run-b62eb3d4-f351-4846-8165-f7b536a328ec-0'\n"
     ]
    }
   ],
   "source": [
    "from langchain_community.chat_models import ChatOllama\n",
    "from langchain_core.prompts import ChatPromptTemplate\n",
    "\n",
    "prompt = ChatPromptTemplate.from_messages([\n",
    "    (\"system\", \"Your name is Cheoul-Su. You are a very helpful assistant. Introduce yourself briefly, answer the question in Korean\"),\n",
    "    (\"user\", \"{input}\")\n",
    "])\n",
    "\n",
    "llm = ChatOllama(model=\"llama3:latest\")\n",
    "\n",
    "chain = prompt | llm\n",
    "message = chain.invoke({\"input\": \"What is Yeouido?\"})\n",
    "print(f'message: {message}')"
   ]
  },
  {
   "cell_type": "code",
   "execution_count": 7,
   "metadata": {},
   "outputs": [
    {
     "name": "stdout",
     "output_type": "stream",
     "text": [
      "message : Yeouido () is a major business and financial hub in Seoul, South Korea. It's often referred to as the \"Wall Street of Korea\" due to its importance in the country's economy.\n",
      "\n",
      "Yeouido is home to many major corporations, financial institutions, and government agencies, including the Korean Stock Exchange (KRX) and the headquarters of several major banks. The area is also a popular spot for shopping, dining, and entertainment, with many high-end boutiques, restaurants, and bars.\n",
      "\n",
      "In particular, Yeouido is famous for its iconic Seoul Tower (N Seoul Tower), which offers stunning views of the city and is a popular tourist destination.\n"
     ]
    }
   ],
   "source": [
    "from langchain_core.output_parsers import StrOutputParser\n",
    "from langchain_community.chat_models import ChatOllama\n",
    "from langchain_core.prompts import ChatPromptTemplate\n",
    "\n",
    "prompt = ChatPromptTemplate.from_messages([\n",
    "    (\"system\", \"Your name is Cheoul-Su. You are a very helpful assistant. Introduce yourself briefly, answer the question in Korean\"),\n",
    "    (\"user\", \"{input}\")\n",
    "])\n",
    "\n",
    "llm = ChatOllama(model=\"llama3:latest\")\n",
    "\n",
    "output_parser = StrOutputParser()\n",
    "\n",
    "chain = prompt | llm | output_parser\n",
    "message = chain.invoke({\"input\": \"What is Yeouido?\"})\n",
    "print(f'message: {message}')"
   ]
  },
  {
   "cell_type": "code",
   "execution_count": 33,
   "metadata": {},
   "outputs": [
    {
     "name": "stdout",
     "output_type": "stream",
     "text": [
      "message1: What is a stock?\n",
      "message2: 주식은 한 회사의 소유권을 나타내는 증권입니다. 즉, 특정 기업에 투자하여 그 기업의 일부를 소유하게 되는 것을 의미합니다. 주식을 구매하면 해당 회사의 수익이나 손실에 대한 권리를 가지게 되며, 배당금 지급과 같은 혜택을 받을 수 있습니다. 또한, 주식의 가치가 상승하면 자본 이득을 실현할 수도 있습니다. 간단히 말해서, 주식을 보유하고 있다는 것은 기업에 투자하고 그 성장과 성공에 참여하는 것을 의미합니다.\n"
     ]
    }
   ],
   "source": [
    "from langchain_core.output_parsers import StrOutputParser\n",
    "from langchain_community.chat_models import ChatOllama\n",
    "from langchain_core.prompts import ChatPromptTemplate\n",
    "\n",
    "prompt1 = ChatPromptTemplate.from_template(\"[{korean_input}] translate the question into English. Don't say anything else, just translate it.\")\n",
    "prompt2 = ChatPromptTemplate.from_messages([\n",
    "    (\"system\", \"Your name is Cheoul-Su. You are a very helpful assistant. Introduce yourself briefly, answer the question in Korean\"),\n",
    "    (\"user\", \"{input}\")\n",
    "])\n",
    "\n",
    "llm = ChatOllama(model=\"EEVE-Korean-Instruct-10.8B-v1.0:latest\")\n",
    "\n",
    "output_parser = StrOutputParser()\n",
    "\n",
    "chain1 = prompt1 | llm | StrOutputParser()\n",
    "message1 = chain1.invoke({\"korean_input\": \"주식이 뭐야?\"})\n",
    "print(f'message1: {message1}')\n",
    "\n",
    "chain2 = (\n",
    "    {\"input\": chain1}\n",
    "    | prompt2\n",
    "    | llm\n",
    "    | StrOutputParser()\n",
    ")\n",
    "message2 = chain2.invoke({\"korean_input\": \"주식이 뭐야?\"})\n",
    "print(f'message2: {message2}')"
   ]
  }
 ],
 "metadata": {
  "kernelspec": {
   "display_name": "test-langchain-lw2NDlv9-py3.11",
   "language": "python",
   "name": "python3"
  },
  "language_info": {
   "codemirror_mode": {
    "name": "ipython",
    "version": 3
   },
   "file_extension": ".py",
   "mimetype": "text/x-python",
   "name": "python",
   "nbconvert_exporter": "python",
   "pygments_lexer": "ipython3",
   "version": "3.11.6"
  }
 },
 "nbformat": 4,
 "nbformat_minor": 2
}
